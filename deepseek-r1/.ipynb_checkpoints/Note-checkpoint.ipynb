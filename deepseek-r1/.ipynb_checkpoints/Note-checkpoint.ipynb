{
 "cells": [
  {
   "cell_type": "markdown",
   "id": "b499f012-6e72-44f4-9525-70e9fae88714",
   "metadata": {},
   "source": [
    "# How to Use\n",
    "## FastAPI"
   ]
  },
  {
   "cell_type": "markdown",
   "id": "a7f8dc9e-e65f-4ba8-a6dc-2e9f502c166e",
   "metadata": {},
   "source": [
    "## LangChain\n",
    "The way to use"
   ]
  },
  {
   "cell_type": "code",
   "execution_count": null,
   "id": "a2ceb2d1-af60-4c69-81ab-e21aa6dad043",
   "metadata": {},
   "outputs": [],
   "source": [
    "llm = DeepSeek_LLM('/root/autodl-tmp/deepseek-ai/deepseek-llm-7b-chat')\n",
    "\n",
    "llm('你好')"
   ]
  },
  {
   "cell_type": "markdown",
   "id": "b5b71670-a8dc-4012-b8ce-87cae2141fde",
   "metadata": {},
   "source": [
    "## WebDemo"
   ]
  },
  {
   "cell_type": "code",
   "execution_count": null,
   "id": "0bdd0646-3101-4182-a395-94589dfea808",
   "metadata": {},
   "outputs": [],
   "source": [
    "streamlit run /root/autodl-tmp/chatBot.py --server.address 127.0.0.1 --server.port 6006"
   ]
  },
  {
   "cell_type": "markdown",
   "id": "3f78b332-7c87-4423-b1de-17c8e2c21793",
   "metadata": {},
   "source": [
    "1"
   ]
  }
 ],
 "metadata": {
  "kernelspec": {
   "display_name": "Python 3 (ipykernel)",
   "language": "python",
   "name": "python3"
  },
  "language_info": {
   "codemirror_mode": {
    "name": "ipython",
    "version": 3
   },
   "file_extension": ".py",
   "mimetype": "text/x-python",
   "name": "python",
   "nbconvert_exporter": "python",
   "pygments_lexer": "ipython3",
   "version": "3.10.8"
  }
 },
 "nbformat": 4,
 "nbformat_minor": 5
}
