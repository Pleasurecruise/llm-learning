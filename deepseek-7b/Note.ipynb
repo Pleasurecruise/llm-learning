{
 "cells": [
  {
   "cell_type": "markdown",
   "id": "b023dd4c-801e-4c12-99fc-392e3848879a",
   "metadata": {},
   "source": [
    "# Runtime Response"
   ]
  },
  {
   "cell_type": "markdown",
   "id": "1abfb5c1-59f7-4179-b81e-72be713bbbc2",
   "metadata": {},
   "source": [
    "api.py"
   ]
  },
  {
   "cell_type": "code",
   "execution_count": null,
   "id": "4d4d02af-e2cc-4e56-98b7-04e291e304f0",
   "metadata": {},
   "outputs": [],
   "source": [
    "(base) root@autodl-container-75c54eac1e-eb78d907:~/autodl-tmp/llm-learning/deepseek-7b# python api.py\n",
    "Loading checkpoint shards:   0%|                                                                                     | 0/2 [00:00<?, ?it/s]/root/miniconda3/lib/python3.10/site-packages/torch/_utils.py:831: UserWarning: TypedStorage is deprecated. It will be removed in the future and UntypedStorage will be the only storage class. This should only matter to you if you are using storages directly.  To access UntypedStorage directly, use tensor.untyped_storage() instead of tensor.storage()\n",
    "  return self.fget.__get__(instance, owner)()\n",
    "Loading checkpoint shards: 100%|█████████████████████████████████████████████████████████████████████████████| 2/2 [00:02<00:00,  1.44s/it]\n",
    "INFO:     Started server process [2642]\n",
    "INFO:     Waiting for application startup.\n",
    "INFO:     Application startup complete.\n",
    "INFO:     Uvicorn running on http://0.0.0.0:6006 (Press CTRL+C to quit)\n",
    "The attention mask is not set and cannot be inferred from input because pad token is same as eos token. As a consequence, you may observe unexpected behavior. Please pass your input's `attention_mask` to obtain reliable results.\n",
    "[2025-02-04 18:47:36] \", prompt:\"你好\", response:\"'你好！有什么我可以帮助你的吗？'\"\n",
    "INFO:     127.0.0.1:39676 - \"POST / HTTP/1.1\" 200 OK"
   ]
  },
  {
   "cell_type": "markdown",
   "id": "7c93438d-6d38-4445-861f-a3df879d3615",
   "metadata": {},
   "source": [
    "request.py"
   ]
  },
  {
   "cell_type": "code",
   "execution_count": null,
   "id": "2ef94cd3-4585-4eb7-86d4-80dde563e5ba",
   "metadata": {},
   "outputs": [],
   "source": [
    "(base) root@autodl-container-75c54eac1e-eb78d907:~/autodl-tmp/llm-learning/deepseek-7b# python request.py\n",
    "你好！有什么我可以帮助你的吗？"
   ]
  },
  {
   "cell_type": "markdown",
   "id": "883f1e03-bbcf-478c-9cab-d62bc907bf56",
   "metadata": {},
   "source": [
    "lang_chain.py"
   ]
  },
  {
   "cell_type": "code",
   "execution_count": null,
   "id": "867149b4-c42d-4e25-84da-0c0c96e1320e",
   "metadata": {},
   "outputs": [],
   "source": [
    "(base) root@autodl-container-75c54eac1e-eb78d907:~/autodl-tmp/llm-learning/deepseek-7b# python lang_chain.py\n",
    "正在从本地加载模型...\n",
    "Loading checkpoint shards:   0%|                                                                                     | 0/2 [00:00<?, ?it/s]/root/miniconda3/lib/python3.10/site-packages/torch/_utils.py:831: UserWarning: TypedStorage is deprecated. It will be removed in the future and UntypedStorage will be the only storage class. This should only matter to you if you are using storages directly.  To access UntypedStorage directly, use tensor.untyped_storage() instead of tensor.storage()\n",
    "  return self.fget.__get__(instance, owner)()\n",
    "Loading checkpoint shards: 100%|█████████████████████████████████████████████████████████████████████████████| 2/2 [00:02<00:00,  1.32s/it]\n",
    "完成本地模型的加载\n",
    "The attention mask is not set and cannot be inferred from input because pad token is same as eos token. As a consequence, you may observe unexpected behavior. Please pass your input's `attention_mask` to obtain reliable results.\n",
    "你好！有什么我可以帮助你的吗？"
   ]
  }
 ],
 "metadata": {
  "kernelspec": {
   "display_name": "Python 3 (ipykernel)",
   "language": "python",
   "name": "python3"
  },
  "language_info": {
   "codemirror_mode": {
    "name": "ipython",
    "version": 3
   },
   "file_extension": ".py",
   "mimetype": "text/x-python",
   "name": "python",
   "nbconvert_exporter": "python",
   "pygments_lexer": "ipython3",
   "version": "3.10.8"
  }
 },
 "nbformat": 4,
 "nbformat_minor": 5
}
